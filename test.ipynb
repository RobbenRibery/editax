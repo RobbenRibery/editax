{
 "cells": [
  {
   "cell_type": "code",
   "execution_count": 9,
   "metadata": {},
   "outputs": [
    {
     "name": "stdout",
     "output_type": "stream",
     "text": [
      "The autoreload extension is already loaded. To reload it, use:\n",
      "  %reload_ext autoreload\n"
     ]
    }
   ],
   "source": [
    "%load_ext autoreload\n",
    "%autoreload 2\n",
    "\n",
    "import os  \n",
    "import sys \n",
    "from PIL import Image \n",
    "os.environ['JAX_PLATFORMS'] = 'cpu'\n",
    "\n",
    "import flax\n",
    "import flax.linen as nn\n",
    "import jax \n",
    "from jax import random\n",
    "import jax.numpy as jnp \n",
    "\n",
    "from craftax.craftax_env import make_craftax_env_from_name\n",
    "from craftax.craftax.world_gen.world_gen import generate_world\n",
    "from craftax.craftax.envs.craftax_symbolic_env import CraftaxSymbolicEnv\n",
    "\n",
    "from jaxued.wrappers.autoreplay import AutoReplayWrapper\n",
    "\n",
    "from editax.models.lstm import LSTMActorCritic, ResetLSTM\n",
    "from editax.upomdp import LogWrapper\n"
   ]
  },
  {
   "cell_type": "code",
   "execution_count": 2,
   "metadata": {},
   "outputs": [
    {
     "name": "stdout",
     "output_type": "stream",
     "text": [
      "(9, 48, 48)\n",
      "<class 'jaxued.wrappers.autoreplay.AutoReplayWrapper'>\n"
     ]
    }
   ],
   "source": [
    "rng = jax.random.PRNGKey(0)\n",
    "rng, _rng = jax.random.split(rng)\n",
    "rngs = jax.random.split(_rng, 3)\n",
    "\n",
    "# Create environment\n",
    "env = make_craftax_env_from_name(\"Craftax-Symbolic-v1\", auto_reset=True)\n",
    "env_params = env.default_params\n",
    "default_statics = CraftaxSymbolicEnv.default_static_params()\n",
    "\n",
    "level = generate_world(_rng, env_params, default_statics) \n",
    "print(level.map.shape)\n",
    "\n",
    "env = CraftaxSymbolicEnv(default_statics)\n",
    "env = AutoReplayWrapper(LogWrapper(env))\n",
    "print(type(env))"
   ]
  },
  {
   "cell_type": "code",
   "execution_count": 3,
   "metadata": {},
   "outputs": [
    {
     "name": "stdout",
     "output_type": "stream",
     "text": [
      "(10, 32, 8268)\n"
     ]
    }
   ],
   "source": [
    "batch_size = 32\n",
    "seq_len = 10\n",
    "\n",
    "obs, _ = env.reset_to_level(rng, level, env_params)\n",
    "#print(obs.shape)\n",
    "obs = jax.tree_util.tree_map(\n",
    "    lambda x: jnp.repeat(\n",
    "        jnp.repeat(\n",
    "            x[None, ...], \n",
    "            batch_size,\n",
    "            axis=0\n",
    "        )[None, ...],\n",
    "        seq_len,\n",
    "        axis=0,\n",
    "    ),\n",
    "    obs,\n",
    ")\n",
    "print(obs.shape)"
   ]
  },
  {
   "cell_type": "code",
   "execution_count": 4,
   "metadata": {},
   "outputs": [
    {
     "name": "stdout",
     "output_type": "stream",
     "text": [
      "ResetLSTM(\n",
      "    # attributes\n",
      "    cell = OptimizedLSTMCell(\n",
      "        # attributes\n",
      "        features = 256\n",
      "        gate_fn = sigmoid\n",
      "        activation_fn = tanh\n",
      "        kernel_init = init\n",
      "        recurrent_kernel_init = init\n",
      "        bias_init = zeros\n",
      "        dtype = None\n",
      "        param_dtype = float32\n",
      "        carry_init = zeros\n",
      "    )\n",
      ")\n"
     ]
    }
   ],
   "source": [
    "n_editor = 4 \n",
    "in_feat, out_feat = obs.shape[2], 256\n",
    "key_1, key_2, key_3 = random.split(random.PRNGKey(0), 3)\n",
    "\n",
    "model = ResetLSTM(nn.OptimizedLSTMCell(features=out_feat))\n",
    "print(model)"
   ]
  },
  {
   "cell_type": "code",
   "execution_count": 5,
   "metadata": {},
   "outputs": [
    {
     "name": "stdout",
     "output_type": "stream",
     "text": [
      "(10, 32, 8268)\n",
      "(10, 32)\n"
     ]
    }
   ],
   "source": [
    "embeds = obs \n",
    "dones = jax.random.uniform(key_2, (seq_len, batch_size, )) > 0.5\n",
    "\n",
    "xs = (embeds, dones)\n",
    "print(xs[0].shape)\n",
    "print(xs[1].shape)"
   ]
  },
  {
   "cell_type": "code",
   "execution_count": 6,
   "metadata": {},
   "outputs": [
    {
     "name": "stdout",
     "output_type": "stream",
     "text": [
      "(32, 256)\n",
      "(32, 256)\n"
     ]
    }
   ],
   "source": [
    "init_carry = model.cell.initialize_carry(key_3, xs[0].shape[1:])\n",
    "print(init_carry[0].shape)\n",
    "print(init_carry[1].shape)\n"
   ]
  },
  {
   "cell_type": "code",
   "execution_count": 7,
   "metadata": {},
   "outputs": [
    {
     "name": "stdout",
     "output_type": "stream",
     "text": [
      "Inner loop\n",
      "x shape: (32, 8268)\n",
      "Resets shape: (32,)\n",
      "Carry shape: (32, 256)\n",
      "Inner loop\n",
      "x shape: (32, 8268)\n",
      "Resets shape: (32,)\n",
      "Carry shape: (32, 256)\n"
     ]
    }
   ],
   "source": [
    "variables = model.init(key_3, xs)"
   ]
  },
  {
   "cell_type": "markdown",
   "metadata": {},
   "source": []
  },
  {
   "cell_type": "code",
   "execution_count": 8,
   "metadata": {},
   "outputs": [
    {
     "name": "stdout",
     "output_type": "stream",
     "text": [
      "Inner loop\n",
      "x shape: (32, 8268)\n",
      "Resets shape: (32,)\n",
      "Carry shape: (32, 256)\n",
      "Inner loop\n",
      "x shape: (32, 8268)\n",
      "Resets shape: (32,)\n",
      "Carry shape: (32, 256)\n",
      "(32, 256)\n",
      "(32, 256)\n",
      "(10, 32, 256)\n"
     ]
    }
   ],
   "source": [
    "out_carry, out_val = model.apply(variables, xs, initial_carry=init_carry)\n",
    "print(out_carry[0].shape)\n",
    "print(out_carry[1].shape)\n",
    "print(out_val.shape)"
   ]
  },
  {
   "cell_type": "code",
   "execution_count": 52,
   "metadata": {},
   "outputs": [
    {
     "name": "stdout",
     "output_type": "stream",
     "text": [
      "(16, 5)\n",
      "(16, 5)\n"
     ]
    }
   ],
   "source": [
    "print(out_carry[0].shape)\n",
    "print(out_carry[1].shape)"
   ]
  },
  {
   "cell_type": "code",
   "execution_count": 53,
   "metadata": {},
   "outputs": [
    {
     "data": {
      "text/plain": [
       "(16, 20, 5)"
      ]
     },
     "execution_count": 53,
     "metadata": {},
     "output_type": "execute_result"
    }
   ],
   "source": [
    "out_val.shape "
   ]
  },
  {
   "cell_type": "code",
   "execution_count": null,
   "metadata": {},
   "outputs": [],
   "source": []
  }
 ],
 "metadata": {
  "kernelspec": {
   "display_name": ".venv",
   "language": "python",
   "name": "python3"
  },
  "language_info": {
   "codemirror_mode": {
    "name": "ipython",
    "version": 3
   },
   "file_extension": ".py",
   "mimetype": "text/x-python",
   "name": "python",
   "nbconvert_exporter": "python",
   "pygments_lexer": "ipython3",
   "version": "3.13.2"
  }
 },
 "nbformat": 4,
 "nbformat_minor": 2
}
